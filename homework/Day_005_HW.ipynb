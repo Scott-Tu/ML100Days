{
 "cells": [
  {
   "cell_type": "markdown",
   "metadata": {},
   "source": [
    "作業目標\n",
    "計算有缺失值的資料，統計量實作\n",
    "作業重點\n",
    "當遇到缺失值有函式可以處理，不須額外寫程式刪除\n",
    "計算統計量時不能出現缺失值\n",
    "\n",
    "題目:\n",
    "english_score = np.array([55,89,76,65,48,70])\n",
    "math_score = np.array([60,85,60,68,np.nan,60])\n",
    "chinese_score = np.array([65,90,82,72,66,77])\n",
    "上3列共六位同學的英文、數學、國文成績，第一個元素代表第一位同學，舉例第一位同學英文55分、數學60分、國文65分，今天第五位同學因某原因沒來考試，導致數學成績缺值，運用上列數據回答下列問題。\n",
    "\n",
    "請計算各科成績平均、最大值、最小值、標準差，其中數學缺一筆資料可忽略?\n",
    "第五位同學補考數學後成績為55，請計算補考後數學成績平均、最大值、最小值、標準差?\n",
    "用補考後資料找出與國文成績相關係數最高的學科?"
   ]
  },
  {
   "cell_type": "code",
   "execution_count": 2,
   "metadata": {},
   "outputs": [],
   "source": [
    "import numpy as np"
   ]
  },
  {
   "cell_type": "code",
   "execution_count": 3,
   "metadata": {},
   "outputs": [],
   "source": [
    "english_score = np.array([55,89,76,65,48,70])\n",
    "math_score = np.array([60,85,60,68,np.nan,60])\n",
    "chinese_score = np.array([65,90,82,72,66,77]) "
   ]
  },
  {
   "cell_type": "code",
   "execution_count": 16,
   "metadata": {},
   "outputs": [
    {
     "name": "stdout",
     "output_type": "stream",
     "text": [
      "english  average: 67.16666666666667 \n",
      " english  maximum: 89 \n",
      " english  minimum: 48 \n",
      " english  standard deviation: 13.433995020924426 \n",
      "\n",
      "math  average: 66.6 \n",
      " math  maximum: 85.0 \n",
      " math  minimum: 60.0 \n",
      " math  standard deviation: 9.707728879609279 \n",
      "\n",
      "chinese  average: 75.33333333333333 \n",
      " chinese  maximum: 90 \n",
      " chinese  minimum: 65 \n",
      " chinese  standard deviation: 8.825468196582484 \n",
      "\n"
     ]
    }
   ],
   "source": [
    "All_score = {\"english\": english_score, \"math\":math_score, \"chinese\":chinese_score}\n",
    "for key, value in All_score.items():\n",
    "    print(key,\" average:\", np.nanmean(value),\"\\n\",\n",
    "          key,\" maximum:\", np.nanmax(value),\"\\n\",\n",
    "          key,\" minimum:\", np.nanmin(value),\"\\n\",\n",
    "          key,\" standard deviation:\", np.nanstd(value),\"\\n\")"
   ]
  },
  {
   "cell_type": "code",
   "execution_count": 20,
   "metadata": {},
   "outputs": [
    {
     "name": "stdout",
     "output_type": "stream",
     "text": [
      "math average: 64.66666666666667 \n",
      " math maximum: 85.0 \n",
      " math minimum: 55.0 \n",
      " math standard deviation: 9.860132971832694 \n",
      "\n"
     ]
    }
   ],
   "source": [
    "All_score[\"math\"][4]=55\n",
    "print(\"math average:\", np.nanmean(All_score[\"math\"]),\"\\n\",\n",
    "      \"math maximum:\", np.nanmax(All_score[\"math\"]),\"\\n\",\n",
    "      \"math minimum:\", np.nanmin(All_score[\"math\"]),\"\\n\",\n",
    "      \"math standard deviation:\", np.nanstd(All_score[\"math\"]),\"\\n\")"
   ]
  },
  {
   "cell_type": "code",
   "execution_count": 21,
   "metadata": {},
   "outputs": [
    {
     "name": "stdout",
     "output_type": "stream",
     "text": [
      "國文與數學相關係數 [[1.         0.74056803]\n",
      " [0.74056803 1.        ]]\n",
      "國文與英文相關係數 [[1.         0.97792828]\n",
      " [0.97792828 1.        ]]\n"
     ]
    }
   ],
   "source": [
    "print(\"國文與數學相關係數\",np.corrcoef(chinese_score,math_score))\n",
    "print(\"國文與英文相關係數\",np.corrcoef(chinese_score,english_score))"
   ]
  }
 ],
 "metadata": {
  "kernelspec": {
   "display_name": "Python 3",
   "language": "python",
   "name": "python3"
  },
  "language_info": {
   "codemirror_mode": {
    "name": "ipython",
    "version": 3
   },
   "file_extension": ".py",
   "mimetype": "text/x-python",
   "name": "python",
   "nbconvert_exporter": "python",
   "pygments_lexer": "ipython3",
   "version": "3.8.5"
  }
 },
 "nbformat": 4,
 "nbformat_minor": 4
}
