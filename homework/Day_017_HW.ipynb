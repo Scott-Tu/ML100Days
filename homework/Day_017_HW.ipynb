{
 "cells": [
  {
   "cell_type": "markdown",
   "metadata": {},
   "source": [
    "題目 : \n",
    "\n",
    "在速度較慢的時候，可以先從哪邊開始檢查？\n",
    "A:讀取資料型態選最快速的\n",
    "多使用內建函數\n",
    "向量化的資料處理\n",
    "\n",
    "資料過大時應採取什麼方式讓記憶體占用量下降？\n",
    "A: 此時我們可以將欄位的型態降級"
   ]
  }
 ],
 "metadata": {
  "kernelspec": {
   "display_name": "Python 3",
   "language": "python",
   "name": "python3"
  },
  "language_info": {
   "codemirror_mode": {
    "name": "ipython",
    "version": 3
   },
   "file_extension": ".py",
   "mimetype": "text/x-python",
   "name": "python",
   "nbconvert_exporter": "python",
   "pygments_lexer": "ipython3",
   "version": "3.8.5"
  }
 },
 "nbformat": 4,
 "nbformat_minor": 4
}
